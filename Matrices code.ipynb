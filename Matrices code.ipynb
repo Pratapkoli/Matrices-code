{
 "cells": [
  {
   "cell_type": "code",
   "execution_count": 5,
   "id": "75791ef6",
   "metadata": {},
   "outputs": [
    {
     "name": "stdout",
     "output_type": "stream",
     "text": [
      "enter the fiste list number [0] [0]1\n",
      "enter the fiste list number [0] [1]2\n",
      "enter the fiste list number [0] [2]3\n",
      "enter the fiste list number [1] [0]4\n",
      "enter the fiste list number [1] [1]5\n",
      "enter the fiste list number [1] [2]6\n",
      "enter the fiste list number [2] [0]7\n",
      "enter the fiste list number [2] [1]8\n",
      "enter the fiste list number [2] [2]9\n",
      "enter the secend list number [0] [0]1\n",
      "enter the secend list number [0] [1]4\n",
      "enter the secend list number [0] [2]7\n",
      "enter the secend list number [1] [0]2\n",
      "enter the secend list number [1] [1]5\n",
      "enter the secend list number [1] [2]8\n",
      "enter the secend list number [2] [0]3\n",
      "enter the secend list number [2] [1]6\n",
      "enter the secend list number [2] [2]9\n",
      "first matrice is :\n",
      "1 2 3 \n",
      "4 5 6 \n",
      "7 8 9 \n",
      "secend matrice is :\n",
      "1 4 7 \n",
      "2 5 8 \n",
      "3 6 9 \n",
      "multipication two matrice: \n",
      "14 32 50 \n",
      "32 77 122 \n",
      "50 122 194 \n"
     ]
    }
   ],
   "source": [
    "#Matrices code\n",
    "\n",
    "M1 = []\n",
    "for i in range(3):\n",
    "    a = []\n",
    "    for j in range(3):\n",
    "        j = int(input(\"enter the fiste list number [\"+str(i)+\"] [\"+str(j)+\"]\"))\n",
    "        a.append(j)\n",
    "    M1.append(a)\n",
    "    \n",
    "M2 = []\n",
    "for i in range(3):\n",
    "    b = []\n",
    "    for j in range(3):\n",
    "        j = int(input(\"enter the secend list number [\"+str(i)+\"] [\"+str(j)+\"]\"))\n",
    "        b.append(j)\n",
    "    M2.append(b)\n",
    "    \n",
    "print(\"first matrice is :\")\n",
    "for i in range(3):\n",
    "    for j in range(3):\n",
    "        print(M1[i][j],end=\" \")\n",
    "    print(\"\")\n",
    "\n",
    "print(\"secend matrice is :\")\n",
    "for i in range(3):\n",
    "    for j in range(3):\n",
    "        print(M2[i][j],end=\" \")\n",
    "    print()\n",
    "    \n",
    "multiply = [[0,0,0],[0,0,0],[0,0,0]]\n",
    "for i in range(3):\n",
    "    for j in range(3):\n",
    "        for k in range(3):\n",
    "            multiply[i][j] =  multiply[i][j] + M1[i][k] * M2[k][j]\n",
    "print(\"multipication two matrice: \")\n",
    "for i in range(3):\n",
    "    for j in range(3):\n",
    "        print( multiply[i][j],end=\" \")\n",
    "    print()"
   ]
  },
  {
   "cell_type": "markdown",
   "id": "d59c5390",
   "metadata": {},
   "source": [
    "# "
   ]
  }
 ],
 "metadata": {
  "kernelspec": {
   "display_name": "Python 3 (ipykernel)",
   "language": "python",
   "name": "python3"
  },
  "language_info": {
   "codemirror_mode": {
    "name": "ipython",
    "version": 3
   },
   "file_extension": ".py",
   "mimetype": "text/x-python",
   "name": "python",
   "nbconvert_exporter": "python",
   "pygments_lexer": "ipython3",
   "version": "3.11.5"
  }
 },
 "nbformat": 4,
 "nbformat_minor": 5
}
